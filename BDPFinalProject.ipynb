{
  "cells": [
    {
      "cell_type": "code",
      "execution_count": null,
      "metadata": {
        "colab": {
          "base_uri": "https://localhost:8080/"
        },
        "id": "3Su1clUv9p5T",
        "outputId": "dbd9cdf5-f312-424a-f229-8e7dbabbbaf3"
      },
      "outputs": [
        {
          "output_type": "stream",
          "name": "stdout",
          "text": [
            "Requirement already satisfied: requests in /usr/local/lib/python3.10/dist-packages (2.31.0)\n",
            "Requirement already satisfied: charset-normalizer<4,>=2 in /usr/local/lib/python3.10/dist-packages (from requests) (3.3.2)\n",
            "Requirement already satisfied: idna<4,>=2.5 in /usr/local/lib/python3.10/dist-packages (from requests) (3.7)\n",
            "Requirement already satisfied: urllib3<3,>=1.21.1 in /usr/local/lib/python3.10/dist-packages (from requests) (2.0.7)\n",
            "Requirement already satisfied: certifi>=2017.4.17 in /usr/local/lib/python3.10/dist-packages (from requests) (2024.6.2)\n",
            "Requirement already satisfied: pandas in /usr/local/lib/python3.10/dist-packages (2.0.3)\n",
            "Requirement already satisfied: python-dateutil>=2.8.2 in /usr/local/lib/python3.10/dist-packages (from pandas) (2.8.2)\n",
            "Requirement already satisfied: pytz>=2020.1 in /usr/local/lib/python3.10/dist-packages (from pandas) (2023.4)\n",
            "Requirement already satisfied: tzdata>=2022.1 in /usr/local/lib/python3.10/dist-packages (from pandas) (2024.1)\n",
            "Requirement already satisfied: numpy>=1.21.0 in /usr/local/lib/python3.10/dist-packages (from pandas) (1.25.2)\n",
            "Requirement already satisfied: six>=1.5 in /usr/local/lib/python3.10/dist-packages (from python-dateutil>=2.8.2->pandas) (1.16.0)\n"
          ]
        }
      ],
      "source": [
        "! pip install requests\n",
        "! pip install pandas"
      ]
    },
    {
      "cell_type": "markdown",
      "metadata": {
        "id": "jM0t3kSHDhkI"
      },
      "source": [
        "# IMPORT LIBRARIES"
      ]
    },
    {
      "cell_type": "code",
      "execution_count": null,
      "metadata": {
        "id": "Y9ZdzSaf-D7p"
      },
      "outputs": [],
      "source": [
        "import requests\n",
        "import xml.etree.ElementTree as ET\n",
        "import pandas as pd\n",
        "from sklearn.cluster import KMeans\n",
        "from sklearn.preprocessing import StandardScaler\n",
        "import matplotlib.pyplot as plt\n",
        "from google.colab import files\n"
      ]
    },
    {
      "cell_type": "markdown",
      "metadata": {
        "id": "YDRUFS0KDlbQ"
      },
      "source": [
        "# LOADING DATA"
      ]
    },
    {
      "cell_type": "code",
      "source": [
        "# URL file XML\n",
        "url = 'https://data.bmkg.go.id/DataMKG/MEWS/DigitalForecast/DigitalForecast-Indonesia.xml'\n",
        "\n",
        "# Headers to mimic a web browser\n",
        "headers = {\n",
        "    'User-Agent': 'Mozilla/5.0 (Windows NT 10.0; Win64; x64) AppleWebKit/537.36 (KHTML, like Gecko) Chrome/91.0.4472.124 Safari/537.36'\n",
        "}\n",
        "\n",
        "# Mengambil data XML dengan headers\n",
        "response = requests.get(url, headers=headers)\n",
        "\n",
        "# Periksa apakah respons sukses\n",
        "if response.status_code == 200:\n",
        "    response_content = response.content\n",
        "\n",
        "    try:\n",
        "        # Memparsing data XML\n",
        "        root = ET.fromstring(response_content)\n",
        "\n",
        "        # Inisialisasi list untuk menyimpan data\n",
        "        data = []\n",
        "\n",
        "        # Mengekstraksi data tertentu (contoh)\n",
        "        for area in root.findall(\".//area\"):\n",
        "            area_name = area.get('description')\n",
        "            area_latitude = area.get('latitude')\n",
        "            area_longitude = area.get('longitude')\n",
        "            area_coordinate = area.get('coordinate')\n",
        "            area_domain = area.get('domain')\n",
        "            for parameter in area.findall(\".//parameter\"):\n",
        "                parameter_name = parameter.get('id')\n",
        "                for timerange in parameter.findall(\".//timerange\"):\n",
        "                    datetime = timerange.get('datetime')\n",
        "                    for value in timerange.findall('value'):\n",
        "                        data.append([area_name, area_latitude, area_longitude, area_coordinate, area_domain, parameter_name, datetime, value.text])\n",
        "\n",
        "        # Membuat DataFrame dari data\n",
        "        df = pd.DataFrame(data, columns=['Kota', 'Latitude', 'Longitude', 'Coordinate', 'Provinsi', 'Parameter', 'Waktu', 'Nilai'])\n",
        "\n",
        "        # Konversi kolom 'Waktu' ke format datetime\n",
        "        df['Waktu'] = pd.to_datetime(df['Waktu'], format='%Y%m%d%H%M%S')\n",
        "\n",
        "        # Melakukan pivoting DataFrame\n",
        "        df_pivot = df.pivot_table(index=['Kota', 'Latitude', 'Longitude', 'Coordinate', 'Provinsi', 'Waktu'],\n",
        "                                  columns='Parameter', values='Nilai', aggfunc='first').reset_index()\n",
        "\n",
        "        # Membersihkan nama kolom\n",
        "        df_pivot.columns.name = None\n",
        "\n",
        "        # Mapping kode cuaca\n",
        "        weather_code_mapping = {\n",
        "            '0': 'Clear Skies',\n",
        "            '1': 'Partly Cloudy',\n",
        "            '2': 'Partly Cloudy',\n",
        "            '3': 'Mostly Cloudy',\n",
        "            '4': 'Overcast',\n",
        "            '5': 'Haze',\n",
        "            '10': 'Smoke',\n",
        "            '45': 'Fog',\n",
        "            '60': 'Light Rain',\n",
        "            '61': 'Rain',\n",
        "            '63': 'Heavy Rain',\n",
        "            '80': 'Isolated Shower',\n",
        "            '95': 'Severe Thunderstorm',\n",
        "            '97': 'Severe Thunderstorm'\n",
        "        }\n",
        "\n",
        "        df_pivot['weather'] = df_pivot['weather'].map(weather_code_mapping)\n",
        "\n",
        "        # Menghapus kolom 'wd' jika ada karena isinya null semua\n",
        "        if 'wd' in df_pivot.columns:\n",
        "            df_pivot = df_pivot.drop(columns=['wd'])\n",
        "\n",
        "        # Menghapus baris dengan nilai null pada kolom 'humax', 'humin', 'tmax', dan 'tmin'\n",
        "        df_cleaned = df_pivot.dropna(subset=['humax', 'humin', 'tmax', 'tmin'])\n",
        "\n",
        "        # Menampilkan DataFrame yang telah diproses\n",
        "        print(df_cleaned)\n",
        "\n",
        "        # Simpan ke file CSV untuk memudahkan visualisasi selanjutnya\n",
        "        df_cleaned.to_csv('data_bmkg_processed.csv', index=False)\n",
        "\n",
        "        # Download csv\n",
        "        files.download('data_bmkg_processed.csv')\n",
        "\n",
        "    except ET.ParseError as e:\n",
        "        print(f\"Error parsing XML: {e}\")\n",
        "else:\n",
        "    print(f\"Failed to retrieve data: HTTP {response.status_code}\")\n"
      ],
      "metadata": {
        "colab": {
          "base_uri": "https://localhost:8080/",
          "height": 528
        },
        "id": "qyclsuGuimre",
        "outputId": "a78bea7f-b211-460d-e7cb-fed2a89209e1"
      },
      "execution_count": null,
      "outputs": [
        {
          "output_type": "stream",
          "name": "stdout",
          "text": [
            "           Kota  Latitude   Longitude           Coordinate       Provinsi  \\\n",
            "2         Ambon  -3.67265   128.23381   128.23381 -3.67265         Maluku   \n",
            "6         Ambon  -3.67265   128.23381   128.23381 -3.67265         Maluku   \n",
            "10        Ambon  -3.67265   128.23381   128.23381 -3.67265         Maluku   \n",
            "14   Banda Aceh   5.54491    95.34312     95.34312 5.54491           Aceh   \n",
            "18   Banda Aceh   5.54491    95.34312     95.34312 5.54491           Aceh   \n",
            "..          ...       ...         ...                  ...            ...   \n",
            "378     Ternate  0.833215  127.365532  127.365532 0.833215   Maluku Utara   \n",
            "382     Ternate  0.833215  127.365532  127.365532 0.833215   Maluku Utara   \n",
            "386  Yogyakarta  -7.80279   110.37625   110.37625 -7.80279  DI Yogyakarta   \n",
            "390  Yogyakarta  -7.80279   110.37625   110.37625 -7.80279  DI Yogyakarta   \n",
            "394  Yogyakarta  -7.80279   110.37625   110.37625 -7.80279  DI Yogyakarta   \n",
            "\n",
            "                  Waktu  hu humax humin   t tmax tmin        weather  ws  \n",
            "2   2024-06-20 12:00:00  80    95    75  27   30   24  Mostly Cloudy  15  \n",
            "6   2024-06-21 12:00:00  85    95    75  27   29   24  Mostly Cloudy  15  \n",
            "10  2024-06-22 12:00:00  80    95    75  26   29   24  Mostly Cloudy  15  \n",
            "14  2024-06-20 12:00:00  70    90    60  29   32   25    Clear Skies   5  \n",
            "18  2024-06-21 12:00:00  85    90    55  26   33   23  Mostly Cloudy   5  \n",
            "..                  ...  ..   ...   ...  ..  ...  ...            ...  ..  \n",
            "378 2024-06-21 12:00:00  85    90    75  28   31   25  Partly Cloudy  10  \n",
            "382 2024-06-22 12:00:00  95   100    70  28   32   23     Light Rain  10  \n",
            "386 2024-06-20 12:00:00  80    90    55  25   34   22  Partly Cloudy   5  \n",
            "390 2024-06-21 12:00:00  70    90    50  24   33   23  Partly Cloudy   5  \n",
            "394 2024-06-22 12:00:00  75    90    50  25   33   23       Overcast   5  \n",
            "\n",
            "[99 rows x 14 columns]\n"
          ]
        },
        {
          "output_type": "display_data",
          "data": {
            "text/plain": [
              "<IPython.core.display.Javascript object>"
            ],
            "application/javascript": [
              "\n",
              "    async function download(id, filename, size) {\n",
              "      if (!google.colab.kernel.accessAllowed) {\n",
              "        return;\n",
              "      }\n",
              "      const div = document.createElement('div');\n",
              "      const label = document.createElement('label');\n",
              "      label.textContent = `Downloading \"${filename}\": `;\n",
              "      div.appendChild(label);\n",
              "      const progress = document.createElement('progress');\n",
              "      progress.max = size;\n",
              "      div.appendChild(progress);\n",
              "      document.body.appendChild(div);\n",
              "\n",
              "      const buffers = [];\n",
              "      let downloaded = 0;\n",
              "\n",
              "      const channel = await google.colab.kernel.comms.open(id);\n",
              "      // Send a message to notify the kernel that we're ready.\n",
              "      channel.send({})\n",
              "\n",
              "      for await (const message of channel.messages) {\n",
              "        // Send a message to notify the kernel that we're ready.\n",
              "        channel.send({})\n",
              "        if (message.buffers) {\n",
              "          for (const buffer of message.buffers) {\n",
              "            buffers.push(buffer);\n",
              "            downloaded += buffer.byteLength;\n",
              "            progress.value = downloaded;\n",
              "          }\n",
              "        }\n",
              "      }\n",
              "      const blob = new Blob(buffers, {type: 'application/binary'});\n",
              "      const a = document.createElement('a');\n",
              "      a.href = window.URL.createObjectURL(blob);\n",
              "      a.download = filename;\n",
              "      div.appendChild(a);\n",
              "      a.click();\n",
              "      div.remove();\n",
              "    }\n",
              "  "
            ]
          },
          "metadata": {}
        },
        {
          "output_type": "display_data",
          "data": {
            "text/plain": [
              "<IPython.core.display.Javascript object>"
            ],
            "application/javascript": [
              "download(\"download_21f46b9b-be1c-4c6d-a451-0ee1882ac7e7\", \"data_bmkg_processed.csv\", 11350)"
            ]
          },
          "metadata": {}
        }
      ]
    },
    {
      "cell_type": "markdown",
      "metadata": {
        "id": "jesS-MIlDqVg"
      },
      "source": [
        "# DATA PREPROCESSING"
      ]
    },
    {
      "cell_type": "code",
      "execution_count": null,
      "metadata": {
        "id": "ZazobSnyDx2o",
        "colab": {
          "base_uri": "https://localhost:8080/"
        },
        "outputId": "79bc70cf-4a25-4241-dd20-7a728672505d"
      },
      "outputs": [
        {
          "output_type": "stream",
          "name": "stderr",
          "text": [
            "<ipython-input-16-8b7ac782c498>:5: SettingWithCopyWarning: \n",
            "A value is trying to be set on a copy of a slice from a DataFrame.\n",
            "Try using .loc[row_indexer,col_indexer] = value instead\n",
            "\n",
            "See the caveats in the documentation: https://pandas.pydata.org/pandas-docs/stable/user_guide/indexing.html#returning-a-view-versus-a-copy\n",
            "  df_cleaned['average_humidity'] = (df_cleaned['humax'].astype(float) + df_cleaned['humin'].astype(float)) / 2\n",
            "<ipython-input-16-8b7ac782c498>:6: SettingWithCopyWarning: \n",
            "A value is trying to be set on a copy of a slice from a DataFrame.\n",
            "Try using .loc[row_indexer,col_indexer] = value instead\n",
            "\n",
            "See the caveats in the documentation: https://pandas.pydata.org/pandas-docs/stable/user_guide/indexing.html#returning-a-view-versus-a-copy\n",
            "  df_cleaned['average_temperature'] = (df_cleaned['tmax'].astype(float) + df_cleaned['tmin'].astype(float)) / 2\n"
          ]
        }
      ],
      "source": [
        "# Menghapus baris dengan nilai null pada kolom 'humax', 'humin', 'tmax', dan 'tmin'\n",
        "df_cleaned = df_pivot.dropna(subset=['humax', 'humin', 'tmax', 'tmin'])\n",
        "\n",
        "# Menggabungkan nilai-nilai yang relevan untuk clustering\n",
        "df_cleaned['average_humidity'] = (df_cleaned['humax'].astype(float) + df_cleaned['humin'].astype(float)) / 2\n",
        "df_cleaned['average_temperature'] = (df_cleaned['tmax'].astype(float) + df_cleaned['tmin'].astype(float)) / 2\n",
        "\n",
        "# Hanya gunakan kolom yang relevan untuk clustering\n",
        "df_clustering = df_cleaned[['average_humidity', 'average_temperature']].dropna()\n",
        "\n",
        "# Normalisasi data\n",
        "scaler = StandardScaler()\n",
        "df_clustering_scaled = scaler.fit_transform(df_clustering)"
      ]
    },
    {
      "cell_type": "markdown",
      "metadata": {
        "id": "MCZPNOcPD3o6"
      },
      "source": [
        "# K-MEANS CLUSTERING"
      ]
    },
    {
      "cell_type": "code",
      "execution_count": null,
      "metadata": {
        "colab": {
          "base_uri": "https://localhost:8080/"
        },
        "id": "CGR_RBBUDzWI",
        "outputId": "9216f0ae-d239-4411-8b8a-b1acd706e1aa"
      },
      "outputs": [
        {
          "output_type": "stream",
          "name": "stdout",
          "text": [
            "Unique Clusters: [1 0 2]\n"
          ]
        },
        {
          "output_type": "stream",
          "name": "stderr",
          "text": [
            "/usr/local/lib/python3.10/dist-packages/sklearn/cluster/_kmeans.py:870: FutureWarning: The default value of `n_init` will change from 10 to 'auto' in 1.4. Set the value of `n_init` explicitly to suppress the warning\n",
            "  warnings.warn(\n",
            "<ipython-input-17-9e42c2882680>:6: SettingWithCopyWarning: \n",
            "A value is trying to be set on a copy of a slice from a DataFrame.\n",
            "Try using .loc[row_indexer,col_indexer] = value instead\n",
            "\n",
            "See the caveats in the documentation: https://pandas.pydata.org/pandas-docs/stable/user_guide/indexing.html#returning-a-view-versus-a-copy\n",
            "  df_cleaned['Cluster'] = kmeans.labels_\n"
          ]
        }
      ],
      "source": [
        "# Model K-Means\n",
        "kmeans = KMeans(n_clusters=3, random_state=0)\n",
        "kmeans.fit(df_clustering_scaled)\n",
        "\n",
        "# Menambahkan label cluster ke DataFrame\n",
        "df_cleaned['Cluster'] = kmeans.labels_\n",
        "\n",
        "# Menampilkan hasil clustering\n",
        "unique_clusters = df_cleaned['Cluster'].unique()\n",
        "print(f\"Unique Clusters: {unique_clusters}\")\n"
      ]
    },
    {
      "cell_type": "code",
      "execution_count": null,
      "metadata": {
        "colab": {
          "base_uri": "https://localhost:8080/"
        },
        "id": "AhxSNSk7H0zv",
        "outputId": "ff4b9739-c453-4d9d-edca-6c9917bc282c"
      },
      "outputs": [
        {
          "output_type": "stream",
          "name": "stdout",
          "text": [
            "        average_humidity                                                    \\\n",
            "                   count       mean       std   min     25%    50%     75%   \n",
            "Cluster                                                                      \n",
            "0                   41.0  74.207317  3.465861  67.5  72.500  75.00  77.500   \n",
            "1                   50.0  83.150000  2.979950  77.5  80.000  82.50  85.000   \n",
            "2                    8.0  76.562500  3.519715  72.5  74.375  76.25  78.125   \n",
            "\n",
            "              average_temperature                                          \\\n",
            "          max               count       mean       std   min   25%    50%   \n",
            "Cluster                                                                     \n",
            "0        80.0                41.0  28.414634  0.511156  27.0  28.0  28.50   \n",
            "1        92.5                50.0  27.290000  0.655355  25.5  27.0  27.50   \n",
            "2        82.5                 8.0  25.062500  1.545443  21.5  25.0  25.25   \n",
            "\n",
            "                       \n",
            "            75%   max  \n",
            "Cluster                \n",
            "0        28.500  29.5  \n",
            "1        27.875  28.5  \n",
            "2        26.000  26.5  \n"
          ]
        }
      ],
      "source": [
        "# Menghitung statistik deskriptif untuk setiap kluster\n",
        "cluster_stats = df_cleaned.groupby('Cluster')[['average_humidity', 'average_temperature']].describe()\n",
        "\n",
        "# Menampilkan statistik deskriptif untuk setiap kluster\n",
        "print(cluster_stats)"
      ]
    },
    {
      "cell_type": "markdown",
      "metadata": {
        "id": "N3IA2VE4EdYA"
      },
      "source": [
        "# VISUALIZATION"
      ]
    },
    {
      "cell_type": "code",
      "execution_count": null,
      "metadata": {
        "colab": {
          "base_uri": "https://localhost:8080/",
          "height": 472
        },
        "id": "jnYwcgw0EYtU",
        "outputId": "827d176c-8b92-4a1c-bedb-a2d0f715fed5"
      },
      "outputs": [
        {
          "output_type": "display_data",
          "data": {
            "text/plain": [
              "<Figure size 640x480 with 1 Axes>"
            ],
            "image/png": "[encoded data removed]"
          },
          "metadata": {}
        }
      ],
      "source": [
        " # Visualisasi Hasil K-Means menggunakan Bar Chart\n",
        "plt.hist(df_cleaned['Cluster'], bins=range(4), align='left', rwidth=0.8)\n",
        "plt.xlabel('Cluster')\n",
        "plt.ylabel('Total Data')\n",
        "plt.title('K-Means Clustering')\n",
        "plt.xticks(range(3))\n",
        "plt.show()\n"
      ]
    },
    {
      "cell_type": "markdown",
      "metadata": {
        "id": "jjX8MxvIH-RP"
      },
      "source": []
    }
  ],
  "metadata": {
    "colab": {
      "provenance": [],
      "gpuType": "T4"
    },
    "kernelspec": {
      "display_name": "Python 3",
      "name": "python3"
    },
    "language_info": {
      "name": "python"
    },
    "accelerator": "GPU"
  },
  "nbformat": 4,
  "nbformat_minor": 0
}